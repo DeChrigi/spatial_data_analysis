{
 "cells": [
  {
   "attachments": {},
   "cell_type": "markdown",
   "id": "0adc758e",
   "metadata": {},
   "source": [
    "# Catchment area analysis of supermarkets"
   ]
  },
  {
   "attachments": {},
   "cell_type": "markdown",
   "id": "7284142e",
   "metadata": {},
   "source": [
    "## Libraries and settings"
   ]
  },
  {
   "cell_type": "code",
   "execution_count": 1,
   "id": "5963ee1a",
   "metadata": {},
   "outputs": [],
   "source": [
    "# Libraries\n",
    "import os\n",
    "import time\n",
    "import glob\n",
    "import json\n",
    "import folium\n",
    "import requests\n",
    "import platform\n",
    "import numpy as np\n",
    "import pandas as pd\n",
    "import geopandas as gdp\n",
    "import matplotlib.pyplot as plt\n",
    "from openrouteservice import client\n",
    "from IPython.display import clear_output\n",
    "\n",
    "# Ignore warnings\n",
    "import warnings\n",
    "warnings.filterwarnings('ignore')"
   ]
  },
  {
   "attachments": {},
   "cell_type": "markdown",
   "id": "6933340b",
   "metadata": {},
   "source": [
    "## Import supermarket data"
   ]
  },
  {
   "cell_type": "code",
   "execution_count": 2,
   "id": "3fb02fe1",
   "metadata": {},
   "outputs": [
    {
     "name": "stdout",
     "output_type": "stream",
     "text": [
      "(967, 9)\n"
     ]
    },
    {
     "data": {
      "text/html": [
       "<div>\n",
       "<style scoped>\n",
       "    .dataframe tbody tr th:only-of-type {\n",
       "        vertical-align: middle;\n",
       "    }\n",
       "\n",
       "    .dataframe tbody tr th {\n",
       "        vertical-align: top;\n",
       "    }\n",
       "\n",
       "    .dataframe thead th {\n",
       "        text-align: right;\n",
       "    }\n",
       "</style>\n",
       "<table border=\"1\" class=\"dataframe\">\n",
       "  <thead>\n",
       "    <tr style=\"text-align: right;\">\n",
       "      <th></th>\n",
       "      <th>id</th>\n",
       "      <th>lat</th>\n",
       "      <th>lon</th>\n",
       "      <th>brand</th>\n",
       "      <th>bfs_number</th>\n",
       "      <th>bfs_name</th>\n",
       "      <th>addr:housenumber</th>\n",
       "      <th>addr:postcode</th>\n",
       "      <th>geometry</th>\n",
       "    </tr>\n",
       "  </thead>\n",
       "  <tbody>\n",
       "    <tr>\n",
       "      <th>1</th>\n",
       "      <td>280130028</td>\n",
       "      <td>47.155492</td>\n",
       "      <td>9.039666</td>\n",
       "      <td>ALDI</td>\n",
       "      <td>3315</td>\n",
       "      <td>Schänis</td>\n",
       "      <td>3</td>\n",
       "      <td>8718.0</td>\n",
       "      <td>POINT (9.0396663 47.1554921)</td>\n",
       "    </tr>\n",
       "    <tr>\n",
       "      <th>2</th>\n",
       "      <td>6122906632</td>\n",
       "      <td>47.158959</td>\n",
       "      <td>9.044477</td>\n",
       "      <td>Denner</td>\n",
       "      <td>3315</td>\n",
       "      <td>Schänis</td>\n",
       "      <td>14</td>\n",
       "      <td>8718.0</td>\n",
       "      <td>POINT (9.0444769 47.1589589)</td>\n",
       "    </tr>\n",
       "    <tr>\n",
       "      <th>4</th>\n",
       "      <td>36726161</td>\n",
       "      <td>47.226191</td>\n",
       "      <td>8.980329</td>\n",
       "      <td>Migros</td>\n",
       "      <td>3339</td>\n",
       "      <td>Uznach</td>\n",
       "      <td>25</td>\n",
       "      <td>8730.0</td>\n",
       "      <td>POINT (8.9803292 47.2261912)</td>\n",
       "    </tr>\n",
       "    <tr>\n",
       "      <th>6</th>\n",
       "      <td>7389830915</td>\n",
       "      <td>47.225056</td>\n",
       "      <td>8.970650</td>\n",
       "      <td>Denner</td>\n",
       "      <td>3339</td>\n",
       "      <td>Uznach</td>\n",
       "      <td>15</td>\n",
       "      <td>8730.0</td>\n",
       "      <td>POINT (8.9706499 47.2250563)</td>\n",
       "    </tr>\n",
       "    <tr>\n",
       "      <th>7</th>\n",
       "      <td>39947904</td>\n",
       "      <td>47.376732</td>\n",
       "      <td>8.542161</td>\n",
       "      <td>Coop</td>\n",
       "      <td>261</td>\n",
       "      <td>Zürich</td>\n",
       "      <td>1</td>\n",
       "      <td>8001.0</td>\n",
       "      <td>POINT (8.5421608 47.3767316)</td>\n",
       "    </tr>\n",
       "  </tbody>\n",
       "</table>\n",
       "</div>"
      ],
      "text/plain": [
       "           id        lat       lon   brand  bfs_number bfs_name  \\\n",
       "1   280130028  47.155492  9.039666    ALDI        3315  Schänis   \n",
       "2  6122906632  47.158959  9.044477  Denner        3315  Schänis   \n",
       "4    36726161  47.226191  8.980329  Migros        3339   Uznach   \n",
       "6  7389830915  47.225056  8.970650  Denner        3339   Uznach   \n",
       "7    39947904  47.376732  8.542161    Coop         261   Zürich   \n",
       "\n",
       "  addr:housenumber  addr:postcode                      geometry  \n",
       "1                3         8718.0  POINT (9.0396663 47.1554921)  \n",
       "2               14         8718.0  POINT (9.0444769 47.1589589)  \n",
       "4               25         8730.0  POINT (8.9803292 47.2261912)  \n",
       "6               15         8730.0  POINT (8.9706499 47.2250563)  \n",
       "7                1         8001.0  POINT (8.5421608 47.3767316)  "
      ]
     },
     "execution_count": 2,
     "metadata": {},
     "output_type": "execute_result"
    }
   ],
   "source": [
    "# Read OpenRouteService API key\n",
    "with open(file='ors_token.txt', mode='r') as file:\n",
    "    api_key = file.read()\n",
    "# print(api_key)\n",
    "\n",
    "# Import supermarket data\n",
    "df_orig = pd.read_csv('supermarkets_data_enriched.csv', \n",
    "                      sep=',',\n",
    "                      encoding='utf-8')[['id',\n",
    "                                         'lat',\n",
    "                                         'lon',\n",
    "                                         'brand',\n",
    "                                         'bfs_number',\n",
    "                                         'bfs_name',\n",
    "                                         'addr:housenumber',\n",
    "                                         'addr:postcode',\n",
    "                                         'geometry']]\n",
    "\n",
    "# Subset, only supermarkets with complete address\n",
    "df = df_orig.dropna()\n",
    "print(df.shape)\n",
    "df.head()"
   ]
  },
  {
   "attachments": {},
   "cell_type": "markdown",
   "id": "9c18779d",
   "metadata": {},
   "source": [
    "## Create isochrone for a single supermarket"
   ]
  },
  {
   "cell_type": "code",
   "execution_count": 3,
   "id": "8128146d",
   "metadata": {},
   "outputs": [
    {
     "name": "stdout",
     "output_type": "stream",
     "text": [
      "{'Denner': {'location': [8.5218139, 47.3203453]}}\n"
     ]
    },
    {
     "data": {
      "text/html": [
       "<div style=\"width:100%;\"><div style=\"position:relative;width:100%;height:0;padding-bottom:60%;\"><span style=\"color:#565656\">Make this Notebook Trusted to load map: File -> Trust Notebook</span><iframe srcdoc=\"&lt;!DOCTYPE html&gt;\n",
       "&lt;html&gt;\n",
       "&lt;head&gt;\n",
       "    \n",
       "    &lt;meta http-equiv=&quot;content-type&quot; content=&quot;text/html; charset=UTF-8&quot; /&gt;\n",
       "    \n",
       "        &lt;script&gt;\n",
       "            L_NO_TOUCH = false;\n",
       "            L_DISABLE_3D = false;\n",
       "        &lt;/script&gt;\n",
       "    \n",
       "    &lt;style&gt;html, body {width: 100%;height: 100%;margin: 0;padding: 0;}&lt;/style&gt;\n",
       "    &lt;style&gt;#map {position:absolute;top:0;bottom:0;right:0;left:0;}&lt;/style&gt;\n",
       "    &lt;script src=&quot;https://cdn.jsdelivr.net/npm/leaflet@1.9.3/dist/leaflet.js&quot;&gt;&lt;/script&gt;\n",
       "    &lt;script src=&quot;https://code.jquery.com/jquery-1.12.4.min.js&quot;&gt;&lt;/script&gt;\n",
       "    &lt;script src=&quot;https://cdn.jsdelivr.net/npm/bootstrap@5.2.2/dist/js/bootstrap.bundle.min.js&quot;&gt;&lt;/script&gt;\n",
       "    &lt;script src=&quot;https://cdnjs.cloudflare.com/ajax/libs/Leaflet.awesome-markers/2.0.2/leaflet.awesome-markers.js&quot;&gt;&lt;/script&gt;\n",
       "    &lt;link rel=&quot;stylesheet&quot; href=&quot;https://cdn.jsdelivr.net/npm/leaflet@1.9.3/dist/leaflet.css&quot;/&gt;\n",
       "    &lt;link rel=&quot;stylesheet&quot; href=&quot;https://cdn.jsdelivr.net/npm/bootstrap@5.2.2/dist/css/bootstrap.min.css&quot;/&gt;\n",
       "    &lt;link rel=&quot;stylesheet&quot; href=&quot;https://netdna.bootstrapcdn.com/bootstrap/3.0.0/css/bootstrap.min.css&quot;/&gt;\n",
       "    &lt;link rel=&quot;stylesheet&quot; href=&quot;https://cdn.jsdelivr.net/npm/@fortawesome/fontawesome-free@6.2.0/css/all.min.css&quot;/&gt;\n",
       "    &lt;link rel=&quot;stylesheet&quot; href=&quot;https://cdnjs.cloudflare.com/ajax/libs/Leaflet.awesome-markers/2.0.2/leaflet.awesome-markers.css&quot;/&gt;\n",
       "    &lt;link rel=&quot;stylesheet&quot; href=&quot;https://cdn.jsdelivr.net/gh/python-visualization/folium/folium/templates/leaflet.awesome.rotate.min.css&quot;/&gt;\n",
       "    \n",
       "            &lt;meta name=&quot;viewport&quot; content=&quot;width=device-width,\n",
       "                initial-scale=1.0, maximum-scale=1.0, user-scalable=no&quot; /&gt;\n",
       "            &lt;style&gt;\n",
       "                #map_5b4a4a9bb30c62561378f55d0d45dc1c {\n",
       "                    position: relative;\n",
       "                    width: 100.0%;\n",
       "                    height: 100.0%;\n",
       "                    left: 0.0%;\n",
       "                    top: 0.0%;\n",
       "                }\n",
       "                .leaflet-container { font-size: 1rem; }\n",
       "            &lt;/style&gt;\n",
       "        \n",
       "&lt;/head&gt;\n",
       "&lt;body&gt;\n",
       "    \n",
       "    \n",
       "            &lt;div class=&quot;folium-map&quot; id=&quot;map_5b4a4a9bb30c62561378f55d0d45dc1c&quot; &gt;&lt;/div&gt;\n",
       "        \n",
       "&lt;/body&gt;\n",
       "&lt;script&gt;\n",
       "    \n",
       "    \n",
       "            var map_5b4a4a9bb30c62561378f55d0d45dc1c = L.map(\n",
       "                &quot;map_5b4a4a9bb30c62561378f55d0d45dc1c&quot;,\n",
       "                {\n",
       "                    center: [47.3203453, 8.5218139],\n",
       "                    crs: L.CRS.EPSG3857,\n",
       "                    zoom: 11,\n",
       "                    zoomControl: true,\n",
       "                    preferCanvas: false,\n",
       "                }\n",
       "            );\n",
       "\n",
       "            \n",
       "\n",
       "        \n",
       "    \n",
       "            var tile_layer_66a1686d093277a5c0dab93658dd80b3 = L.tileLayer(\n",
       "                &quot;https://{s}.tile.openstreetmap.org/{z}/{x}/{y}.png&quot;,\n",
       "                {&quot;attribution&quot;: &quot;Data by \\u0026copy; \\u003ca target=\\&quot;_blank\\&quot; href=\\&quot;http://openstreetmap.org\\&quot;\\u003eOpenStreetMap\\u003c/a\\u003e, under \\u003ca target=\\&quot;_blank\\&quot; href=\\&quot;http://www.openstreetmap.org/copyright\\&quot;\\u003eODbL\\u003c/a\\u003e.&quot;, &quot;detectRetina&quot;: false, &quot;maxNativeZoom&quot;: 18, &quot;maxZoom&quot;: 18, &quot;minZoom&quot;: 0, &quot;noWrap&quot;: false, &quot;opacity&quot;: 1, &quot;subdomains&quot;: &quot;abc&quot;, &quot;tms&quot;: false}\n",
       "            ).addTo(map_5b4a4a9bb30c62561378f55d0d45dc1c);\n",
       "        \n",
       "    \n",
       "\n",
       "        function geo_json_064d1b19b620ad8fbbf8afb8ddbc46d2_onEachFeature(feature, layer) {\n",
       "            layer.on({\n",
       "            });\n",
       "        };\n",
       "        var geo_json_064d1b19b620ad8fbbf8afb8ddbc46d2 = L.geoJson(null, {\n",
       "                onEachFeature: geo_json_064d1b19b620ad8fbbf8afb8ddbc46d2_onEachFeature,\n",
       "            \n",
       "        });\n",
       "\n",
       "        function geo_json_064d1b19b620ad8fbbf8afb8ddbc46d2_add (data) {\n",
       "            geo_json_064d1b19b620ad8fbbf8afb8ddbc46d2\n",
       "                .addData(data)\n",
       "                .addTo(map_5b4a4a9bb30c62561378f55d0d45dc1c);\n",
       "        }\n",
       "            geo_json_064d1b19b620ad8fbbf8afb8ddbc46d2_add({&quot;bbox&quot;: [8.420642, 47.214651, 8.668754, 47.382007], &quot;features&quot;: [{&quot;geometry&quot;: {&quot;coordinates&quot;: [[[8.420642, 47.353087], [8.420812, 47.352661], [8.421752, 47.350941], [8.423805, 47.348689], [8.430213, 47.342558], [8.432902, 47.340835], [8.435754, 47.339688], [8.438753, 47.339008], [8.441638, 47.33876], [8.44436, 47.338875], [8.447086, 47.339343], [8.451365, 47.32824], [8.446524, 47.323024], [8.449163, 47.320575], [8.454004, 47.325792], [8.458845, 47.331008], [8.461018, 47.33407], [8.463118, 47.343889], [8.471763, 47.348341], [8.474632, 47.348184], [8.479675, 47.347439], [8.482226, 47.347063], [8.484776, 47.346686], [8.487326, 47.34631], [8.491151, 47.345746], [8.494976, 47.345181], [8.497526, 47.344805], [8.500076, 47.344429], [8.502626, 47.344052], [8.505176, 47.343676], [8.507724, 47.3433], [8.510098, 47.331772], [8.506537, 47.330307], [8.505112, 47.32448], [8.511379, 47.318834], [8.513328, 47.316785], [8.514711, 47.311802], [8.513902, 47.305369], [8.502926, 47.304842], [8.502768, 47.304966], [8.500158, 47.306113], [8.495701, 47.311685], [8.494981, 47.313459], [8.494799, 47.313766], [8.493104, 47.314311], [8.492922, 47.314278], [8.486507, 47.309485], [8.478995, 47.311298], [8.478722, 47.311436], [8.477093, 47.308226], [8.478385, 47.30363], [8.478534, 47.302653], [8.479608, 47.291816], [8.479012, 47.289493], [8.478988, 47.289102], [8.48371, 47.284139], [8.485357, 47.28326], [8.487791, 47.285912], [8.498267, 47.287349], [8.500857, 47.287698], [8.51001, 47.28249], [8.510539, 47.280035], [8.506512, 47.271715], [8.505747, 47.270732], [8.5057, 47.270675], [8.505311, 47.268322], [8.510577, 47.261128], [8.512414, 47.258369], [8.518139, 47.257837], [8.524154, 47.255648], [8.52613, 47.258657], [8.5374, 47.262432], [8.540903, 47.262731], [8.551141, 47.25694], [8.552786, 47.253801], [8.554444, 47.251076], [8.56515, 47.247265], [8.566384, 47.244567], [8.573214, 47.236831], [8.576049, 47.234611], [8.576181, 47.23478], [8.577085, 47.236863], [8.577494, 47.239796], [8.576321, 47.2432], [8.57233, 47.24625], [8.571002, 47.256043], [8.581692, 47.25681], [8.584464, 47.25494], [8.586651, 47.253571], [8.589873, 47.251513], [8.592142, 47.249959], [8.594364, 47.248411], [8.596748, 47.245503], [8.596985, 47.245102], [8.598576, 47.243806], [8.602885, 47.241779], [8.60782, 47.231456], [8.60825, 47.226062], [8.608301, 47.225977], [8.609685, 47.22358], [8.609822, 47.22337], [8.61352, 47.225082], [8.625022, 47.223047], [8.631272, 47.219239], [8.633075, 47.21952], [8.633336, 47.219815], [8.633644, 47.221947], [8.64266, 47.227708], [8.646121, 47.226849], [8.648645, 47.225925], [8.651283, 47.224612], [8.659254, 47.219148], [8.66059, 47.218187], [8.660726, 47.218106], [8.666613, 47.214651], [8.668754, 47.217546], [8.66728, 47.218636], [8.665916, 47.219555], [8.660389, 47.222758], [8.654493, 47.226852], [8.65169, 47.228481], [8.649007, 47.229661], [8.646077, 47.23062], [8.643338, 47.231243], [8.636515, 47.232945], [8.635822, 47.233078], [8.633536, 47.233528], [8.633122, 47.233608], [8.622019, 47.235037], [8.616529, 47.241234], [8.616358, 47.241432], [8.611203, 47.248574], [8.609778, 47.252451], [8.609348, 47.253031], [8.603047, 47.253051], [8.591811, 47.254547], [8.588561, 47.256623], [8.584533, 47.25922], [8.58104, 47.261795], [8.582002, 47.273672], [8.583478, 47.276416], [8.583415, 47.276604], [8.58195, 47.280325], [8.581926, 47.280366], [8.581836, 47.280495], [8.57715, 47.287416], [8.575643, 47.289811], [8.569766, 47.294569], [8.5676, 47.296496], [8.5656, 47.298163], [8.56357, 47.299996], [8.558183, 47.307747], [8.555089, 47.315317], [8.55206, 47.322819], [8.550728, 47.325518], [8.549406, 47.328333], [8.543864, 47.333203], [8.539267, 47.33949], [8.536133, 47.348844], [8.534273, 47.355833], [8.541044, 47.364432], [8.54145, 47.364611], [8.5416, 47.371698], [8.541734, 47.37439], [8.541755, 47.374779], [8.540649, 47.376262], [8.538795, 47.378453], [8.534048, 47.380791], [8.534, 47.380808], [8.533999, 47.380808], [8.533951, 47.380825], [8.528208, 47.381934], [8.528154, 47.38194], [8.525604, 47.382007], [8.52092, 47.381967], [8.509688, 47.380582], [8.509028, 47.379921], [8.507821, 47.378535], [8.507737, 47.37572], [8.50524, 47.364786], [8.503442, 47.363877], [8.503044, 47.363656], [8.502578, 47.36196], [8.503288, 47.359297], [8.503454, 47.353797], [8.495501, 47.348743], [8.491676, 47.349307], [8.487851, 47.349871], [8.485301, 47.350248], [8.482751, 47.350624], [8.480201, 47.351], [8.475044, 47.35176], [8.472315, 47.351948], [8.469423, 47.351761], [8.466211, 47.351045], [8.46319, 47.349726], [8.454115, 47.346183], [8.448012, 47.347876], [8.444983, 47.350075], [8.443838, 47.350658], [8.440595, 47.351775], [8.429135, 47.3487], [8.426295, 47.351289], [8.423984, 47.354425], [8.420642, 47.353087]]], &quot;type&quot;: &quot;Polygon&quot;}, &quot;properties&quot;: {&quot;center&quot;: [8.521610176550409, 47.32034445352463], &quot;group_index&quot;: 0, &quot;total_pop&quot;: 164296.0, &quot;value&quot;: 900.0}, &quot;type&quot;: &quot;Feature&quot;}], &quot;metadata&quot;: {&quot;attribution&quot;: &quot;openrouteservice.org | OpenStreetMap contributors&quot;, &quot;engine&quot;: {&quot;build_date&quot;: &quot;2024-01-29T14:41:12Z&quot;, &quot;graph_date&quot;: &quot;2024-02-18T14:05:28Z&quot;, &quot;version&quot;: &quot;7.1.1&quot;}, &quot;query&quot;: {&quot;attributes&quot;: [&quot;total_pop&quot;], &quot;locations&quot;: [[8.5218139, 47.3203453]], &quot;profile&quot;: &quot;driving-car&quot;, &quot;range&quot;: [900.0], &quot;range_type&quot;: &quot;time&quot;}, &quot;service&quot;: &quot;isochrones&quot;, &quot;timestamp&quot;: 1708689138176}, &quot;type&quot;: &quot;FeatureCollection&quot;});\n",
       "\n",
       "        \n",
       "    \n",
       "            var marker_2dc9238edd2d306025cba7673cf8dcc2 = L.marker(\n",
       "                [47.3203453, 8.5218139],\n",
       "                {}\n",
       "            ).addTo(map_5b4a4a9bb30c62561378f55d0d45dc1c);\n",
       "        \n",
       "    \n",
       "            var icon_f007e5a08d458060a7d5a3ea6ec698f4 = L.AwesomeMarkers.icon(\n",
       "                {&quot;extraClasses&quot;: &quot;fa-rotate-0&quot;, &quot;icon&quot;: &quot;home&quot;, &quot;iconColor&quot;: &quot;#cc0000&quot;, &quot;markerColor&quot;: &quot;green&quot;, &quot;prefix&quot;: &quot;fa&quot;}\n",
       "            );\n",
       "            marker_2dc9238edd2d306025cba7673cf8dcc2.setIcon(icon_f007e5a08d458060a7d5a3ea6ec698f4);\n",
       "        \n",
       "    \n",
       "        var popup_4039b0e0dd95c48316ce0fdbb5c5a439 = L.popup({&quot;maxWidth&quot;: &quot;100%&quot;});\n",
       "\n",
       "        \n",
       "            \n",
       "                var html_f4b6838f1bd2630d2d01367c37949dc6 = $(`&lt;div id=&quot;html_f4b6838f1bd2630d2d01367c37949dc6&quot; style=&quot;width: 100.0%; height: 100.0%;&quot;&gt;Denner&lt;/div&gt;`)[0];\n",
       "                popup_4039b0e0dd95c48316ce0fdbb5c5a439.setContent(html_f4b6838f1bd2630d2d01367c37949dc6);\n",
       "            \n",
       "        \n",
       "\n",
       "        marker_2dc9238edd2d306025cba7673cf8dcc2.bindPopup(popup_4039b0e0dd95c48316ce0fdbb5c5a439)\n",
       "        ;\n",
       "\n",
       "        \n",
       "    \n",
       "&lt;/script&gt;\n",
       "&lt;/html&gt;\" style=\"position:absolute;width:100%;height:100%;left:0;top:0;border:none !important;\" allowfullscreen webkitallowfullscreen mozallowfullscreen></iframe></div></div>"
      ],
      "text/plain": [
       "<folium.folium.Map at 0x292d0ebe470>"
      ]
     },
     "execution_count": 3,
     "metadata": {},
     "output_type": "execute_result"
    }
   ],
   "source": [
    "# Settings\n",
    "municip = 'Adliswil'\n",
    "transport = 'driving-car' # alternativle 'foot-walking'\n",
    "traveltime = 15\n",
    "\n",
    "# Client settings\n",
    "ors = client.Client(key=api_key)\n",
    "\n",
    "# Set up supermarket dictionary with a single supermarket\n",
    "df_sub = df.loc[df['bfs_name'] == municip].iloc[0]\n",
    "supermarkets = {df_sub['brand']: {'location': [df_sub['lon'], \n",
    "                                               df_sub['lat']]}}\n",
    "print(supermarkets)\n",
    "\n",
    "# Set up folium map\n",
    "map = folium.Map(tiles='openstreetmap', \n",
    "                 location=([df_sub['lat'], \n",
    "                            df_sub['lon']]), \n",
    "                 zoom_start=11)\n",
    "\n",
    "# Parameters for server-request\n",
    "params_iso = {'profile': transport,\n",
    "              'range': [traveltime*60],\n",
    "              'attributes': ['total_pop']}\n",
    "\n",
    "# Server request\n",
    "for name, apt in supermarkets.items():\n",
    "    \n",
    "    # Add coords to request parameters\n",
    "    params_iso['locations'] = [apt['location']]\n",
    "    \n",
    "    # Perform isochrone request\n",
    "    apt['iso'] = ors.isochrones(**params_iso)\n",
    "    \n",
    "    # Add GeoJson to map\n",
    "    folium.features.GeoJson(apt['iso']).add_to(map)\n",
    "    \n",
    "    # Save GeoJson as file\n",
    "    # with open(f'{name}.json', 'w') as f:\n",
    "        # f.write(json.dumps(apt['iso']))\n",
    "\n",
    "    # Reverse coords due to weird folium lat/lon syntax\n",
    "    folium.map.Marker(list(reversed(apt['location'])),\n",
    "                      icon = folium.Icon(color='green',\n",
    "                                         icon_color='#cc0000',\n",
    "                                         icon='home',\n",
    "                                         prefix=\"fa\"),\n",
    "                      popup = name\n",
    "                      ).add_to(map)\n",
    "\n",
    "# Plot map\n",
    "map"
   ]
  },
  {
   "attachments": {},
   "cell_type": "markdown",
   "id": "29a2359f",
   "metadata": {},
   "source": [
    "## Getting the number of residents in the isochrone area"
   ]
  },
  {
   "cell_type": "code",
   "execution_count": 4,
   "id": "6318f539",
   "metadata": {},
   "outputs": [
    {
     "name": "stdout",
     "output_type": "stream",
     "text": [
      "Number of residents in isochrone area: 164,296\n"
     ]
    }
   ],
   "source": [
    "# Save the data as pandas data frame\n",
    "data = pd.DataFrame(apt['iso'][\"features\"])\n",
    "\n",
    "# Create data frame from column 'properties'\n",
    "df_pop = pd.DataFrame(data.loc[0, 'properties'])\n",
    "val = df_pop['total_pop'][0]\n",
    "print('Number of residents in isochrone area:', f'{val:,.0f}')"
   ]
  },
  {
   "attachments": {},
   "cell_type": "markdown",
   "id": "404507b3",
   "metadata": {},
   "source": [
    "## Estimating the purchasing power in the isochrone area"
   ]
  },
  {
   "cell_type": "code",
   "execution_count": 5,
   "id": "b680534b",
   "metadata": {},
   "outputs": [
    {
     "name": "stdout",
     "output_type": "stream",
     "text": [
      "Purchasing power per month: 115.0 Mio. CHF\n"
     ]
    }
   ],
   "source": [
    "# Simple assumtions:\n",
    "# 500 CHF per resident and month\n",
    "# Residents / employee ratio = 2:1\n",
    "# 20 CHF per employee and working day\n",
    "\n",
    "# Result\n",
    "val = ((df_pop['total_pop'][0] * 500) + (df_pop['total_pop'][0] * 0.5 * 20 * 20)) / 10**6\n",
    "print('Purchasing power per month:',\n",
    "      f'{val:.1f}',\n",
    "     'Mio. CHF')"
   ]
  },
  {
   "attachments": {},
   "cell_type": "markdown",
   "id": "9f69357d",
   "metadata": {},
   "source": [
    "## Automization of the analysis for multiple of supermarkets"
   ]
  },
  {
   "cell_type": "code",
   "execution_count": 6,
   "id": "6d848358",
   "metadata": {},
   "outputs": [
    {
     "data": {
      "text/plain": [
       "[[280130028, 'ALDI', 3315, 'Schänis', '3', 8718.0, 76053.0, 53.2371],\n",
       " [6122906632, 'Denner', 3315, 'Schänis', '14', 8718.0, 75033.0, 52.5231],\n",
       " [36726161, 'Migros', 3339, 'Uznach', '25', 8730.0, 0.0, 0.0],\n",
       " [7389830915, 'Denner', 3339, 'Uznach', '15', 8730.0, 60536.0, 42.3752],\n",
       " [39947904, 'Coop', 261, 'Zürich', '1', 8001.0, 495141.0, 346.5987],\n",
       " [48932835, 'Migros', 261, 'Zürich', '7', 8004.0, 496126.0, 347.2882],\n",
       " [75749133, 'ALDI', 261, 'Zürich', '81', 8038.0, 330987.0, 231.6909],\n",
       " [79977755, 'Coop', 261, 'Zürich', '15', 8038.0, 324692.0, 227.2844],\n",
       " [83330862, 'Migros', 261, 'Zürich', '3', 8038.0, 323651.0, 226.5557],\n",
       " [119249170, 'Migros', 261, 'Zürich', '31-35', 8001.0, 486263.0, 340.3841]]"
      ]
     },
     "execution_count": 6,
     "metadata": {},
     "output_type": "execute_result"
    }
   ],
   "source": [
    "# Client settings\n",
    "ors = client.Client(key=api_key)\n",
    "\n",
    "# Parameters for server-request\n",
    "params_iso = {'profile': 'driving-car',\n",
    "              'range': [15*60],\n",
    "              'attributes': ['total_pop']}\n",
    "\n",
    "# Df to store the data\n",
    "pop_out = []\n",
    "\n",
    "try:\n",
    "    for i in range(0, 10):\n",
    "        \n",
    "        print('Preparing isochrone for supermarkt', df[['id', \n",
    "                                                        'brand', \n",
    "                                                        'bfs_name', \n",
    "                                                        'addr:housenumber',\n",
    "                                                        'addr:postcode']].iloc[i])\n",
    "        \n",
    "        supermarkets = {df['brand'].iloc[i]: {'location': [df['lon'].iloc[i],\n",
    "                                                           df['lat'].iloc[i]]}}\n",
    "        # Server request\n",
    "        for name, apt in supermarkets.items():\n",
    "            \n",
    "            # Add coords to request parameters\n",
    "            params_iso['locations'] = [apt['location']]\n",
    "            \n",
    "            # Perform isochrone request\n",
    "            apt['iso'] = ors.isochrones(**params_iso)\n",
    "            time.sleep(1)\n",
    "            \n",
    "            # Save the data as pandas data frame\n",
    "            data = pd.DataFrame(apt['iso'][\"features\"])\n",
    "            \n",
    "            # Create data frame from column 'properties'\n",
    "            df_pop = pd.DataFrame(data.loc[0, 'properties'])\n",
    "            \n",
    "            # Write values\n",
    "            pop_out.append([df['id'].iloc[i], \n",
    "                            df['brand'].iloc[i],\n",
    "                            df['bfs_number'].iloc[i], \n",
    "                            df['bfs_name'].iloc[i], \n",
    "                            df['addr:housenumber'].iloc[i],\n",
    "                            df['addr:postcode'].iloc[i],\n",
    "                            df_pop['total_pop'][0],\n",
    "                            ((df_pop['total_pop'][0] * 500) + (df_pop['total_pop'][0] * 0.5 * 20 * 20)) / 10**6])\n",
    "            clear_output(wait=True)\n",
    "            \n",
    "except:\n",
    "    pop_out.append([df['id'].iloc[i], \n",
    "                    df['brand'].iloc[i],\n",
    "                    df['bfs_number'].iloc[i], \n",
    "                    df['bfs_name'].iloc[i], \n",
    "                    df['addr:housenumber'].iloc[i],\n",
    "                    df['addr:postcode'].iloc[i],\n",
    "                    np.NaN,\n",
    "                    np.NaN])\n",
    "    clear_output(wait=True)\n",
    "\n",
    "# Print list\n",
    "pop_out"
   ]
  },
  {
   "attachments": {},
   "cell_type": "markdown",
   "id": "e62379c8",
   "metadata": {},
   "source": [
    "### Jupyter notebook --footer info-- (please always provide this at the end of each notebook)"
   ]
  },
  {
   "cell_type": "code",
   "execution_count": 7,
   "id": "7e10aeab",
   "metadata": {},
   "outputs": [
    {
     "name": "stdout",
     "output_type": "stream",
     "text": [
      "-----------------------------------\n",
      "NT\n",
      "Windows | 10\n",
      "Datetime: 2024-02-23 12:52:30\n",
      "Python Version: 3.10.11\n",
      "-----------------------------------\n"
     ]
    }
   ],
   "source": [
    "import os\n",
    "import platform\n",
    "import socket\n",
    "from platform import python_version\n",
    "from datetime import datetime\n",
    "\n",
    "print('-----------------------------------')\n",
    "print(os.name.upper())\n",
    "print(platform.system(), '|', platform.release())\n",
    "print('Datetime:', datetime.now().strftime(\"%Y-%m-%d %H:%M:%S\"))\n",
    "print('Python Version:', python_version())\n",
    "print('-----------------------------------')"
   ]
  }
 ],
 "metadata": {
  "kernelspec": {
   "display_name": "Python 3 (ipykernel)",
   "language": "python",
   "name": "python3"
  },
  "language_info": {
   "codemirror_mode": {
    "name": "ipython",
    "version": 3
   },
   "file_extension": ".py",
   "mimetype": "text/x-python",
   "name": "python",
   "nbconvert_exporter": "python",
   "pygments_lexer": "ipython3",
   "version": "3.10.11"
  },
  "vscode": {
   "interpreter": {
    "hash": "18632da57c1a416bf8be4aa27ba4ca7c1f66541805f18b0825a162dab4e44f29"
   }
  }
 },
 "nbformat": 4,
 "nbformat_minor": 5
}
