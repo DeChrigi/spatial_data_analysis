{
 "cells": [
  {
   "attachments": {},
   "cell_type": "markdown",
   "id": "0adc758e",
   "metadata": {},
   "source": [
    "# Catchment area analysis of supermarkets"
   ]
  },
  {
   "attachments": {},
   "cell_type": "markdown",
   "id": "7284142e",
   "metadata": {},
   "source": [
    "## Libraries and settings"
   ]
  },
  {
   "cell_type": "code",
   "execution_count": 20,
   "id": "5963ee1a",
   "metadata": {},
   "outputs": [],
   "source": [
    "# Libraries\n",
    "import os\n",
    "import time\n",
    "import glob\n",
    "import json\n",
    "import folium\n",
    "import requests\n",
    "import platform\n",
    "import numpy as np\n",
    "import pandas as pd\n",
    "import geopandas as gdp\n",
    "import matplotlib.pyplot as plt\n",
    "from openrouteservice import client\n",
    "from IPython.display import clear_output\n",
    "\n",
    "# Ignore warnings\n",
    "import warnings\n",
    "warnings.filterwarnings('ignore')"
   ]
  },
  {
   "attachments": {},
   "cell_type": "markdown",
   "id": "6933340b",
   "metadata": {},
   "source": [
    "## Import supermarket data"
   ]
  },
  {
   "cell_type": "code",
   "execution_count": 21,
   "id": "3fb02fe1",
   "metadata": {},
   "outputs": [
    {
     "name": "stdout",
     "output_type": "stream",
     "text": [
      "(967, 9)\n"
     ]
    },
    {
     "data": {
      "text/html": [
       "<div>\n",
       "<style scoped>\n",
       "    .dataframe tbody tr th:only-of-type {\n",
       "        vertical-align: middle;\n",
       "    }\n",
       "\n",
       "    .dataframe tbody tr th {\n",
       "        vertical-align: top;\n",
       "    }\n",
       "\n",
       "    .dataframe thead th {\n",
       "        text-align: right;\n",
       "    }\n",
       "</style>\n",
       "<table border=\"1\" class=\"dataframe\">\n",
       "  <thead>\n",
       "    <tr style=\"text-align: right;\">\n",
       "      <th></th>\n",
       "      <th>id</th>\n",
       "      <th>lat</th>\n",
       "      <th>lon</th>\n",
       "      <th>brand</th>\n",
       "      <th>bfs_number</th>\n",
       "      <th>bfs_name</th>\n",
       "      <th>addr:housenumber</th>\n",
       "      <th>addr:postcode</th>\n",
       "      <th>geometry</th>\n",
       "    </tr>\n",
       "  </thead>\n",
       "  <tbody>\n",
       "    <tr>\n",
       "      <th>1</th>\n",
       "      <td>280130028</td>\n",
       "      <td>47.155492</td>\n",
       "      <td>9.039666</td>\n",
       "      <td>ALDI</td>\n",
       "      <td>3315</td>\n",
       "      <td>Schänis</td>\n",
       "      <td>3</td>\n",
       "      <td>8718.0</td>\n",
       "      <td>POINT (9.0396663 47.1554921)</td>\n",
       "    </tr>\n",
       "    <tr>\n",
       "      <th>2</th>\n",
       "      <td>6122906632</td>\n",
       "      <td>47.158959</td>\n",
       "      <td>9.044477</td>\n",
       "      <td>Denner</td>\n",
       "      <td>3315</td>\n",
       "      <td>Schänis</td>\n",
       "      <td>14</td>\n",
       "      <td>8718.0</td>\n",
       "      <td>POINT (9.0444769 47.1589589)</td>\n",
       "    </tr>\n",
       "    <tr>\n",
       "      <th>4</th>\n",
       "      <td>36726161</td>\n",
       "      <td>47.226191</td>\n",
       "      <td>8.980329</td>\n",
       "      <td>Migros</td>\n",
       "      <td>3339</td>\n",
       "      <td>Uznach</td>\n",
       "      <td>25</td>\n",
       "      <td>8730.0</td>\n",
       "      <td>POINT (8.9803292 47.2261912)</td>\n",
       "    </tr>\n",
       "    <tr>\n",
       "      <th>6</th>\n",
       "      <td>7389830915</td>\n",
       "      <td>47.225056</td>\n",
       "      <td>8.970650</td>\n",
       "      <td>Denner</td>\n",
       "      <td>3339</td>\n",
       "      <td>Uznach</td>\n",
       "      <td>15</td>\n",
       "      <td>8730.0</td>\n",
       "      <td>POINT (8.9706499 47.2250563)</td>\n",
       "    </tr>\n",
       "    <tr>\n",
       "      <th>7</th>\n",
       "      <td>39947904</td>\n",
       "      <td>47.376732</td>\n",
       "      <td>8.542161</td>\n",
       "      <td>Coop</td>\n",
       "      <td>261</td>\n",
       "      <td>Zürich</td>\n",
       "      <td>1</td>\n",
       "      <td>8001.0</td>\n",
       "      <td>POINT (8.5421608 47.3767316)</td>\n",
       "    </tr>\n",
       "  </tbody>\n",
       "</table>\n",
       "</div>"
      ],
      "text/plain": [
       "           id        lat       lon   brand  bfs_number bfs_name  \\\n",
       "1   280130028  47.155492  9.039666    ALDI        3315  Schänis   \n",
       "2  6122906632  47.158959  9.044477  Denner        3315  Schänis   \n",
       "4    36726161  47.226191  8.980329  Migros        3339   Uznach   \n",
       "6  7389830915  47.225056  8.970650  Denner        3339   Uznach   \n",
       "7    39947904  47.376732  8.542161    Coop         261   Zürich   \n",
       "\n",
       "  addr:housenumber  addr:postcode                      geometry  \n",
       "1                3         8718.0  POINT (9.0396663 47.1554921)  \n",
       "2               14         8718.0  POINT (9.0444769 47.1589589)  \n",
       "4               25         8730.0  POINT (8.9803292 47.2261912)  \n",
       "6               15         8730.0  POINT (8.9706499 47.2250563)  \n",
       "7                1         8001.0  POINT (8.5421608 47.3767316)  "
      ]
     },
     "execution_count": 21,
     "metadata": {},
     "output_type": "execute_result"
    }
   ],
   "source": [
    "# Read OpenRouteService API key\n",
    "with open(file='ors_token.txt', mode='r') as file:\n",
    "    api_key = file.read()\n",
    "# print(api_key)\n",
    "\n",
    "# Import supermarket data\n",
    "df_orig = pd.read_csv('supermarkets_data_enriched.csv', \n",
    "                      sep=',',\n",
    "                      encoding='utf-8')[['id',\n",
    "                                         'lat',\n",
    "                                         'lon',\n",
    "                                         'brand',\n",
    "                                         'bfs_number',\n",
    "                                         'bfs_name',\n",
    "                                         'addr:housenumber',\n",
    "                                         'addr:postcode',\n",
    "                                         'geometry']]\n",
    "\n",
    "# Subset, only supermarkets with complete address\n",
    "df = df_orig.dropna()\n",
    "print(df.shape)\n",
    "df.head()"
   ]
  },
  {
   "attachments": {},
   "cell_type": "markdown",
   "id": "9c18779d",
   "metadata": {},
   "source": [
    "## Create isochrone for a single supermarket"
   ]
  },
  {
   "cell_type": "code",
   "execution_count": 22,
   "id": "8128146d",
   "metadata": {},
   "outputs": [
    {
     "name": "stdout",
     "output_type": "stream",
     "text": [
      "{'Denner': {'location': [8.5218139, 47.3203453]}}\n"
     ]
    },
    {
     "data": {
      "text/html": [
       "<div style=\"width:100%;\"><div style=\"position:relative;width:100%;height:0;padding-bottom:60%;\"><span style=\"color:#565656\">Make this Notebook Trusted to load map: File -> Trust Notebook</span><iframe srcdoc=\"&lt;!DOCTYPE html&gt;\n",
       "&lt;html&gt;\n",
       "&lt;head&gt;\n",
       "    \n",
       "    &lt;meta http-equiv=&quot;content-type&quot; content=&quot;text/html; charset=UTF-8&quot; /&gt;\n",
       "    \n",
       "        &lt;script&gt;\n",
       "            L_NO_TOUCH = false;\n",
       "            L_DISABLE_3D = false;\n",
       "        &lt;/script&gt;\n",
       "    \n",
       "    &lt;style&gt;html, body {width: 100%;height: 100%;margin: 0;padding: 0;}&lt;/style&gt;\n",
       "    &lt;style&gt;#map {position:absolute;top:0;bottom:0;right:0;left:0;}&lt;/style&gt;\n",
       "    &lt;script src=&quot;https://cdn.jsdelivr.net/npm/leaflet@1.9.3/dist/leaflet.js&quot;&gt;&lt;/script&gt;\n",
       "    &lt;script src=&quot;https://code.jquery.com/jquery-1.12.4.min.js&quot;&gt;&lt;/script&gt;\n",
       "    &lt;script src=&quot;https://cdn.jsdelivr.net/npm/bootstrap@5.2.2/dist/js/bootstrap.bundle.min.js&quot;&gt;&lt;/script&gt;\n",
       "    &lt;script src=&quot;https://cdnjs.cloudflare.com/ajax/libs/Leaflet.awesome-markers/2.0.2/leaflet.awesome-markers.js&quot;&gt;&lt;/script&gt;\n",
       "    &lt;link rel=&quot;stylesheet&quot; href=&quot;https://cdn.jsdelivr.net/npm/leaflet@1.9.3/dist/leaflet.css&quot;/&gt;\n",
       "    &lt;link rel=&quot;stylesheet&quot; href=&quot;https://cdn.jsdelivr.net/npm/bootstrap@5.2.2/dist/css/bootstrap.min.css&quot;/&gt;\n",
       "    &lt;link rel=&quot;stylesheet&quot; href=&quot;https://netdna.bootstrapcdn.com/bootstrap/3.0.0/css/bootstrap.min.css&quot;/&gt;\n",
       "    &lt;link rel=&quot;stylesheet&quot; href=&quot;https://cdn.jsdelivr.net/npm/@fortawesome/fontawesome-free@6.2.0/css/all.min.css&quot;/&gt;\n",
       "    &lt;link rel=&quot;stylesheet&quot; href=&quot;https://cdnjs.cloudflare.com/ajax/libs/Leaflet.awesome-markers/2.0.2/leaflet.awesome-markers.css&quot;/&gt;\n",
       "    &lt;link rel=&quot;stylesheet&quot; href=&quot;https://cdn.jsdelivr.net/gh/python-visualization/folium/folium/templates/leaflet.awesome.rotate.min.css&quot;/&gt;\n",
       "    \n",
       "            &lt;meta name=&quot;viewport&quot; content=&quot;width=device-width,\n",
       "                initial-scale=1.0, maximum-scale=1.0, user-scalable=no&quot; /&gt;\n",
       "            &lt;style&gt;\n",
       "                #map_f639ab84a8e9ae8a1aa8b365354fb2cb {\n",
       "                    position: relative;\n",
       "                    width: 100.0%;\n",
       "                    height: 100.0%;\n",
       "                    left: 0.0%;\n",
       "                    top: 0.0%;\n",
       "                }\n",
       "                .leaflet-container { font-size: 1rem; }\n",
       "            &lt;/style&gt;\n",
       "        \n",
       "&lt;/head&gt;\n",
       "&lt;body&gt;\n",
       "    \n",
       "    \n",
       "            &lt;div class=&quot;folium-map&quot; id=&quot;map_f639ab84a8e9ae8a1aa8b365354fb2cb&quot; &gt;&lt;/div&gt;\n",
       "        \n",
       "&lt;/body&gt;\n",
       "&lt;script&gt;\n",
       "    \n",
       "    \n",
       "            var map_f639ab84a8e9ae8a1aa8b365354fb2cb = L.map(\n",
       "                &quot;map_f639ab84a8e9ae8a1aa8b365354fb2cb&quot;,\n",
       "                {\n",
       "                    center: [47.3203453, 8.5218139],\n",
       "                    crs: L.CRS.EPSG3857,\n",
       "                    zoom: 11,\n",
       "                    zoomControl: true,\n",
       "                    preferCanvas: false,\n",
       "                }\n",
       "            );\n",
       "\n",
       "            \n",
       "\n",
       "        \n",
       "    \n",
       "            var tile_layer_df4c857724f6f593bdbae6f5947e9fd8 = L.tileLayer(\n",
       "                &quot;https://stamen-tiles-{s}.a.ssl.fastly.net/toner/{z}/{x}/{y}.png&quot;,\n",
       "                {&quot;attribution&quot;: &quot;Map tiles by \\u003ca target=\\&quot;_blank\\&quot; href=\\&quot;http://stamen.com\\&quot;\\u003eStamen Design\\u003c/a\\u003e, under \\u003ca target=\\&quot;_blank\\&quot; href=\\&quot;http://creativecommons.org/licenses/by/3.0\\&quot;\\u003eCC BY 3.0\\u003c/a\\u003e. Data by \\u0026copy; \\u003ca target=\\&quot;_blank\\&quot; href=\\&quot;http://openstreetmap.org\\&quot;\\u003eOpenStreetMap\\u003c/a\\u003e, under \\u003ca target=\\&quot;_blank\\&quot; href=\\&quot;http://www.openstreetmap.org/copyright\\&quot;\\u003eODbL\\u003c/a\\u003e.&quot;, &quot;detectRetina&quot;: false, &quot;maxNativeZoom&quot;: 18, &quot;maxZoom&quot;: 18, &quot;minZoom&quot;: 0, &quot;noWrap&quot;: false, &quot;opacity&quot;: 1, &quot;subdomains&quot;: &quot;abc&quot;, &quot;tms&quot;: false}\n",
       "            ).addTo(map_f639ab84a8e9ae8a1aa8b365354fb2cb);\n",
       "        \n",
       "    \n",
       "\n",
       "        function geo_json_b59d90d1ffd8d6801a538b4e10bab238_onEachFeature(feature, layer) {\n",
       "            layer.on({\n",
       "            });\n",
       "        };\n",
       "        var geo_json_b59d90d1ffd8d6801a538b4e10bab238 = L.geoJson(null, {\n",
       "                onEachFeature: geo_json_b59d90d1ffd8d6801a538b4e10bab238_onEachFeature,\n",
       "            \n",
       "        });\n",
       "\n",
       "        function geo_json_b59d90d1ffd8d6801a538b4e10bab238_add (data) {\n",
       "            geo_json_b59d90d1ffd8d6801a538b4e10bab238\n",
       "                .addData(data)\n",
       "                .addTo(map_f639ab84a8e9ae8a1aa8b365354fb2cb);\n",
       "        }\n",
       "            geo_json_b59d90d1ffd8d6801a538b4e10bab238_add({&quot;bbox&quot;: [8.420861, 47.214707, 8.668694, 47.384643], &quot;features&quot;: [{&quot;geometry&quot;: {&quot;coordinates&quot;: [[[8.420861, 47.352551], [8.421186, 47.351861], [8.422084, 47.350491], [8.430213, 47.342558], [8.432902, 47.340835], [8.435754, 47.339688], [8.438753, 47.339008], [8.441638, 47.33876], [8.44436, 47.338875], [8.447086, 47.339343], [8.452791, 47.329777], [8.449376, 47.326097], [8.452015, 47.323648], [8.45543, 47.327328], [8.458845, 47.331008], [8.460382, 47.332918], [8.463123, 47.343909], [8.471763, 47.348341], [8.474575, 47.348191], [8.478201, 47.347656], [8.480791, 47.347274], [8.483381, 47.346892], [8.485971, 47.34651], [8.488561, 47.346128], [8.491151, 47.345746], [8.494777, 47.345211], [8.497367, 47.344828], [8.499957, 47.344446], [8.502546, 47.344064], [8.505136, 47.343682], [8.507726, 47.3433], [8.51197, 47.332314], [8.506584, 47.330047], [8.505688, 47.325147], [8.509826, 47.31818], [8.512681, 47.316221], [8.514608, 47.313409], [8.515347, 47.308989], [8.514453, 47.30596], [8.503023, 47.304767], [8.502768, 47.304966], [8.500248, 47.306192], [8.497007, 47.309599], [8.496012, 47.314773], [8.492717, 47.317443], [8.49243, 47.31764], [8.489687, 47.315322], [8.486713, 47.312385], [8.476649, 47.312212], [8.475186, 47.312949], [8.474004, 47.310456], [8.473565, 47.309734], [8.476375, 47.303991], [8.477428, 47.300548], [8.48059, 47.290034], [8.478596, 47.287702], [8.478626, 47.2876], [8.479047, 47.286466], [8.479098, 47.286386], [8.481931, 47.284643], [8.485991, 47.282402], [8.487074, 47.282189], [8.488637, 47.281799], [8.48885, 47.281761], [8.490424, 47.28283], [8.490674, 47.28307], [8.497289, 47.287017], [8.500923, 47.276586], [8.500245, 47.275631], [8.500145, 47.275408], [8.500145, 47.275408], [8.500069, 47.27524], [8.4997, 47.272115], [8.50158, 47.269805], [8.506218, 47.260336], [8.505648, 47.25774], [8.506653, 47.257489], [8.511772, 47.256279], [8.514912, 47.256312], [8.525534, 47.251784], [8.526282, 47.250707], [8.529238, 47.252762], [8.537707, 47.260171], [8.541304, 47.26003], [8.550117, 47.254963], [8.554933, 47.250081], [8.557036, 47.24947], [8.565942, 47.245245], [8.56807, 47.24339], [8.572649, 47.236677], [8.572933, 47.232127], [8.573057, 47.231753], [8.573837, 47.229172], [8.575245, 47.227058], [8.575568, 47.226765], [8.575962, 47.226425], [8.578347, 47.227309], [8.578379, 47.22738], [8.578406, 47.228816], [8.578311, 47.229153], [8.577674, 47.236415], [8.578776, 47.241187], [8.578049, 47.244909], [8.577939, 47.245162], [8.584371, 47.2548], [8.588511, 47.252171], [8.590676, 47.250745], [8.593311, 47.248911], [8.596763, 47.245479], [8.596985, 47.245102], [8.60072, 47.241835], [8.605874, 47.240146], [8.60764, 47.230155], [8.607926, 47.226842], [8.608007, 47.226574], [8.609381, 47.223975], [8.609753, 47.223392], [8.610384, 47.222828], [8.610485, 47.222758], [8.613315, 47.223909], [8.625022, 47.223047], [8.631811, 47.218726], [8.633051, 47.219492], [8.633336, 47.219815], [8.634316, 47.221311], [8.644542, 47.227289], [8.647654, 47.226325], [8.650043, 47.22528], [8.65241, 47.223916], [8.655787, 47.221416], [8.658575, 47.219492], [8.66059, 47.218187], [8.660708, 47.218117], [8.666519, 47.214707], [8.668694, 47.217576], [8.668013, 47.218092], [8.665902, 47.219545], [8.662812, 47.221248], [8.654493, 47.226852], [8.65169, 47.228481], [8.647938, 47.230044], [8.64548, 47.230765], [8.640949, 47.231606], [8.634246, 47.233415], [8.633776, 47.233491], [8.622807, 47.235181], [8.616529, 47.241234], [8.616358, 47.241431], [8.611169, 47.248593], [8.609778, 47.252451], [8.609356, 47.253021], [8.60322, 47.252898], [8.592733, 47.2537], [8.590485, 47.255182], [8.586301, 47.257839], [8.583639, 47.259599], [8.581214, 47.261426], [8.58253, 47.272242], [8.583934, 47.274792], [8.584077, 47.27516], [8.582632, 47.280889], [8.58046, 47.283536], [8.575942, 47.289247], [8.57309, 47.291356], [8.569287, 47.29471], [8.564239, 47.29919], [8.560275, 47.306927], [8.555952, 47.312565], [8.552822, 47.31964], [8.550728, 47.325518], [8.549406, 47.328333], [8.542129, 47.335028], [8.536249, 47.345433], [8.535901, 47.353911], [8.535606, 47.357096], [8.542706, 47.364923], [8.543381, 47.365039], [8.543569, 47.367981], [8.543617, 47.368696], [8.543678, 47.3752], [8.543716, 47.376323], [8.543711, 47.376342], [8.540618, 47.378723], [8.530774, 47.38458], [8.53062, 47.384643], [8.528873, 47.384256], [8.521233, 47.38333], [8.516798, 47.383647], [8.505084, 47.382636], [8.503623, 47.38217], [8.503508, 47.382053], [8.503175, 47.379584], [8.504861, 47.375744], [8.501721, 47.366384], [8.500909, 47.364512], [8.500983, 47.364302], [8.50211, 47.358877], [8.497892, 47.34839], [8.495302, 47.348772], [8.491676, 47.349307], [8.489086, 47.349689], [8.486497, 47.350071], [8.483907, 47.350454], [8.481317, 47.350836], [8.478727, 47.351218], [8.475101, 47.351753], [8.472315, 47.351948], [8.469423, 47.351761], [8.466211, 47.351045], [8.46319, 47.349726], [8.454115, 47.346183], [8.448018, 47.347872], [8.444984, 47.350072], [8.443856, 47.350646], [8.440966, 47.351564], [8.438948, 47.348583], [8.428682, 47.349215], [8.424959, 47.352658], [8.424117, 47.354086], [8.420861, 47.352551]]], &quot;type&quot;: &quot;Polygon&quot;}, &quot;properties&quot;: {&quot;center&quot;: [8.521610176550409, 47.32034445352463], &quot;group_index&quot;: 0, &quot;total_pop&quot;: 177104.0, &quot;value&quot;: 900.0}, &quot;type&quot;: &quot;Feature&quot;}], &quot;metadata&quot;: {&quot;attribution&quot;: &quot;openrouteservice.org | OpenStreetMap contributors&quot;, &quot;engine&quot;: {&quot;build_date&quot;: &quot;2023-07-09T01:31:50Z&quot;, &quot;graph_date&quot;: &quot;2023-09-03T10:10:37Z&quot;, &quot;version&quot;: &quot;7.1.0&quot;}, &quot;query&quot;: {&quot;attributes&quot;: [&quot;total_pop&quot;], &quot;locations&quot;: [[8.5218139, 47.3203453]], &quot;profile&quot;: &quot;driving-car&quot;, &quot;range&quot;: [900.0], &quot;range_type&quot;: &quot;time&quot;}, &quot;service&quot;: &quot;isochrones&quot;, &quot;timestamp&quot;: 1694187151464}, &quot;type&quot;: &quot;FeatureCollection&quot;});\n",
       "\n",
       "        \n",
       "    \n",
       "            var marker_cf172c340140464aa5f3d4f9412d5cd9 = L.marker(\n",
       "                [47.3203453, 8.5218139],\n",
       "                {}\n",
       "            ).addTo(map_f639ab84a8e9ae8a1aa8b365354fb2cb);\n",
       "        \n",
       "    \n",
       "            var icon_0474cb630304c14f3e6dd6c7a1f26229 = L.AwesomeMarkers.icon(\n",
       "                {&quot;extraClasses&quot;: &quot;fa-rotate-0&quot;, &quot;icon&quot;: &quot;home&quot;, &quot;iconColor&quot;: &quot;#cc0000&quot;, &quot;markerColor&quot;: &quot;green&quot;, &quot;prefix&quot;: &quot;fa&quot;}\n",
       "            );\n",
       "            marker_cf172c340140464aa5f3d4f9412d5cd9.setIcon(icon_0474cb630304c14f3e6dd6c7a1f26229);\n",
       "        \n",
       "    \n",
       "        var popup_73fd90a79515eba6d34050c050f3dac9 = L.popup({&quot;maxWidth&quot;: &quot;100%&quot;});\n",
       "\n",
       "        \n",
       "            \n",
       "                var html_36ee0a26915a72cf154e0c9ad71fc2e9 = $(`&lt;div id=&quot;html_36ee0a26915a72cf154e0c9ad71fc2e9&quot; style=&quot;width: 100.0%; height: 100.0%;&quot;&gt;Denner&lt;/div&gt;`)[0];\n",
       "                popup_73fd90a79515eba6d34050c050f3dac9.setContent(html_36ee0a26915a72cf154e0c9ad71fc2e9);\n",
       "            \n",
       "        \n",
       "\n",
       "        marker_cf172c340140464aa5f3d4f9412d5cd9.bindPopup(popup_73fd90a79515eba6d34050c050f3dac9)\n",
       "        ;\n",
       "\n",
       "        \n",
       "    \n",
       "&lt;/script&gt;\n",
       "&lt;/html&gt;\" style=\"position:absolute;width:100%;height:100%;left:0;top:0;border:none !important;\" allowfullscreen webkitallowfullscreen mozallowfullscreen></iframe></div></div>"
      ],
      "text/plain": [
       "<folium.folium.Map at 0x25d658ef730>"
      ]
     },
     "execution_count": 22,
     "metadata": {},
     "output_type": "execute_result"
    }
   ],
   "source": [
    "# Settings\n",
    "municip = 'Adliswil'\n",
    "transport = 'driving-car' # alternativle 'foot-walking'\n",
    "traveltime = 15\n",
    "\n",
    "# Client settings\n",
    "ors = client.Client(key=api_key)\n",
    "\n",
    "# Set up supermarket dictionary with a single supermarket\n",
    "df_sub = df.loc[df['bfs_name'] == municip].iloc[0]\n",
    "supermarkets = {df_sub['brand']: {'location': [df_sub['lon'], \n",
    "                                               df_sub['lat']]}}\n",
    "print(supermarkets)\n",
    "\n",
    "# Set up folium map\n",
    "map = folium.Map(tiles='Stamen Toner', \n",
    "                 location=([df_sub['lat'], \n",
    "                            df_sub['lon']]), \n",
    "                 zoom_start=11)\n",
    "\n",
    "# Parameters for server-request\n",
    "params_iso = {'profile': transport,\n",
    "              'range': [traveltime*60],\n",
    "              'attributes': ['total_pop']}\n",
    "\n",
    "# Server request\n",
    "for name, apt in supermarkets.items():\n",
    "    \n",
    "    # Add coords to request parameters\n",
    "    params_iso['locations'] = [apt['location']]\n",
    "    \n",
    "    # Perform isochrone request\n",
    "    apt['iso'] = ors.isochrones(**params_iso)\n",
    "    \n",
    "    # Add GeoJson to map\n",
    "    folium.features.GeoJson(apt['iso']).add_to(map)\n",
    "    \n",
    "    # Save GeoJson as file\n",
    "    # with open(f'{name}.json', 'w') as f:\n",
    "        # f.write(json.dumps(apt['iso']))\n",
    "\n",
    "    # Reverse coords due to weird folium lat/lon syntax\n",
    "    folium.map.Marker(list(reversed(apt['location'])),\n",
    "                      icon = folium.Icon(color='green',\n",
    "                                         icon_color='#cc0000',\n",
    "                                         icon='home',\n",
    "                                         prefix=\"fa\"),\n",
    "                      popup = name\n",
    "                      ).add_to(map)\n",
    "\n",
    "# Plot map\n",
    "map"
   ]
  },
  {
   "attachments": {},
   "cell_type": "markdown",
   "id": "29a2359f",
   "metadata": {},
   "source": [
    "## Getting the number of residents in the isochrone area"
   ]
  },
  {
   "cell_type": "code",
   "execution_count": 23,
   "id": "6318f539",
   "metadata": {},
   "outputs": [
    {
     "name": "stdout",
     "output_type": "stream",
     "text": [
      "Number of residents in isochrone area: 177,104\n"
     ]
    }
   ],
   "source": [
    "# Save the data as pandas data frame\n",
    "data = pd.DataFrame(apt['iso'][\"features\"])\n",
    "\n",
    "# Create data frame from column 'properties'\n",
    "df_pop = pd.DataFrame(data.loc[0, 'properties'])\n",
    "val = df_pop['total_pop'][0]\n",
    "print('Number of residents in isochrone area:', f'{val:,.0f}')"
   ]
  },
  {
   "attachments": {},
   "cell_type": "markdown",
   "id": "404507b3",
   "metadata": {},
   "source": [
    "## Estimating the purchasing power in the isochrone area"
   ]
  },
  {
   "cell_type": "code",
   "execution_count": 24,
   "id": "b680534b",
   "metadata": {},
   "outputs": [
    {
     "name": "stdout",
     "output_type": "stream",
     "text": [
      "Purchasing power per month: 124.0 Mio. CHF\n"
     ]
    }
   ],
   "source": [
    "# Simple assumtions:\n",
    "# 500 CHF per resident and month\n",
    "# Residents / employee ratio = 2:1\n",
    "# 20 CHF per employee and working day\n",
    "\n",
    "# Result\n",
    "val = ((df_pop['total_pop'][0] * 500) + (df_pop['total_pop'][0] * 0.5 * 20 * 20)) / 10**6\n",
    "print('Purchasing power per month:',\n",
    "      f'{val:.1f}',\n",
    "     'Mio. CHF')"
   ]
  },
  {
   "attachments": {},
   "cell_type": "markdown",
   "id": "9f69357d",
   "metadata": {},
   "source": [
    "## Automization of the analysis for multiple of supermarkets"
   ]
  },
  {
   "cell_type": "code",
   "execution_count": 25,
   "id": "6d848358",
   "metadata": {},
   "outputs": [
    {
     "data": {
      "text/plain": [
       "[[280130028, 'ALDI', 3315, 'Schänis', '3', 8718.0, 77050.0, 53.935],\n",
       " [6122906632, 'Denner', 3315, 'Schänis', '14', 8718.0, 76425.0, 53.4975],\n",
       " [36726161, 'Migros', 3339, 'Uznach', '25', 8730.0, 0.0, 0.0],\n",
       " [7389830915, 'Denner', 3339, 'Uznach', '15', 8730.0, 62948.0, 44.0636],\n",
       " [39947904, 'Coop', 261, 'Zürich', '1', 8001.0, 495817.0, 347.0719],\n",
       " [48932835, 'Migros', 261, 'Zürich', '7', 8004.0, 512285.0, 358.5995],\n",
       " [75749133, 'ALDI', 261, 'Zürich', '81', 8038.0, 345470.0, 241.829],\n",
       " [79977755, 'Coop', 261, 'Zürich', '15', 8038.0, 332132.0, 232.4924],\n",
       " [83330862, 'Migros', 261, 'Zürich', '3', 8038.0, 326623.0, 228.6361],\n",
       " [119249170, 'Migros', 261, 'Zürich', '31-35', 8001.0, 489008.0, 342.3056]]"
      ]
     },
     "execution_count": 25,
     "metadata": {},
     "output_type": "execute_result"
    }
   ],
   "source": [
    "# Client settings\n",
    "ors = client.Client(key=api_key)\n",
    "\n",
    "# Parameters for server-request\n",
    "params_iso = {'profile': 'driving-car',\n",
    "              'range': [15*60],\n",
    "              'attributes': ['total_pop']}\n",
    "\n",
    "# Df to store the data\n",
    "pop_out = []\n",
    "\n",
    "try:\n",
    "    for i in range(0, 10):\n",
    "        \n",
    "        print('Preparing isochrone for supermarkt', df[['id', \n",
    "                                                        'brand', \n",
    "                                                        'bfs_name', \n",
    "                                                        'addr:housenumber',\n",
    "                                                        'addr:postcode']].iloc[i])\n",
    "        \n",
    "        supermarkets = {df['brand'].iloc[i]: {'location': [df['lon'].iloc[i],\n",
    "                                                           df['lat'].iloc[i]]}}\n",
    "        # Server request\n",
    "        for name, apt in supermarkets.items():\n",
    "            \n",
    "            # Add coords to request parameters\n",
    "            params_iso['locations'] = [apt['location']]\n",
    "            \n",
    "            # Perform isochrone request\n",
    "            apt['iso'] = ors.isochrones(**params_iso)\n",
    "            time.sleep(1)\n",
    "            \n",
    "            # Save the data as pandas data frame\n",
    "            data = pd.DataFrame(apt['iso'][\"features\"])\n",
    "            \n",
    "            # Create data frame from column 'properties'\n",
    "            df_pop = pd.DataFrame(data.loc[0, 'properties'])\n",
    "            \n",
    "            # Write values\n",
    "            pop_out.append([df['id'].iloc[i], \n",
    "                            df['brand'].iloc[i],\n",
    "                            df['bfs_number'].iloc[i], \n",
    "                            df['bfs_name'].iloc[i], \n",
    "                            df['addr:housenumber'].iloc[i],\n",
    "                            df['addr:postcode'].iloc[i],\n",
    "                            df_pop['total_pop'][0],\n",
    "                            ((df_pop['total_pop'][0] * 500) + (df_pop['total_pop'][0] * 0.5 * 20 * 20)) / 10**6])\n",
    "            clear_output(wait=True)\n",
    "            \n",
    "except:\n",
    "    pop_out.append([df['id'].iloc[i], \n",
    "                    df['brand'].iloc[i],\n",
    "                    df['bfs_number'].iloc[i], \n",
    "                    df['bfs_name'].iloc[i], \n",
    "                    df['addr:housenumber'].iloc[i],\n",
    "                    df['addr:postcode'].iloc[i],\n",
    "                    np.NaN,\n",
    "                    np.NaN])\n",
    "    clear_output(wait=True)\n",
    "\n",
    "# Print list\n",
    "pop_out"
   ]
  },
  {
   "attachments": {},
   "cell_type": "markdown",
   "id": "e62379c8",
   "metadata": {},
   "source": [
    "### Jupyter notebook --footer info-- (please always provide this at the end of each notebook)"
   ]
  },
  {
   "cell_type": "code",
   "execution_count": 26,
   "id": "7e10aeab",
   "metadata": {},
   "outputs": [
    {
     "name": "stdout",
     "output_type": "stream",
     "text": [
      "-----------------------------------\n",
      "NT\n",
      "Windows | 10\n",
      "Datetime: 2023-09-08 17:33:10\n",
      "Python Version: 3.10.11\n",
      "-----------------------------------\n"
     ]
    }
   ],
   "source": [
    "import os\n",
    "import platform\n",
    "import socket\n",
    "from platform import python_version\n",
    "from datetime import datetime\n",
    "\n",
    "print('-----------------------------------')\n",
    "print(os.name.upper())\n",
    "print(platform.system(), '|', platform.release())\n",
    "print('Datetime:', datetime.now().strftime(\"%Y-%m-%d %H:%M:%S\"))\n",
    "print('Python Version:', python_version())\n",
    "print('-----------------------------------')"
   ]
  }
 ],
 "metadata": {
  "kernelspec": {
   "display_name": "Python 3 (ipykernel)",
   "language": "python",
   "name": "python3"
  },
  "language_info": {
   "codemirror_mode": {
    "name": "ipython",
    "version": 3
   },
   "file_extension": ".py",
   "mimetype": "text/x-python",
   "name": "python",
   "nbconvert_exporter": "python",
   "pygments_lexer": "ipython3",
   "version": "3.10.11"
  },
  "vscode": {
   "interpreter": {
    "hash": "18632da57c1a416bf8be4aa27ba4ca7c1f66541805f18b0825a162dab4e44f29"
   }
  }
 },
 "nbformat": 4,
 "nbformat_minor": 5
}
