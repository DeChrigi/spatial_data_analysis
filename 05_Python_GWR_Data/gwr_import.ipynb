{
 "cells": [
  {
   "cell_type": "markdown",
   "metadata": {},
   "source": [
    "# Preparation of GWR - Data"
   ]
  },
  {
   "cell_type": "markdown",
   "metadata": {},
   "source": [
    "## Libraries and Settings"
   ]
  },
  {
   "cell_type": "code",
   "execution_count": null,
   "metadata": {},
   "outputs": [],
   "source": [
    "# Libraries\n",
    "import os\n",
    "import json\n",
    "import folium\n",
    "import requests\n",
    "import numpy as np\n",
    "import pandas as pd\n",
    "import geopandas as gpd\n",
    "from datetime import date\n",
    "\n",
    "# Ignore warnings\n",
    "import warnings\n",
    "warnings.filterwarnings(\"ignore\")\n",
    "\n",
    "print(os.getcwd())"
   ]
  },
  {
   "cell_type": "markdown",
   "metadata": {},
   "source": [
    "## Download GWR data\n",
    "\n",
    "Source: https://public.madd.bfs.admin.ch"
   ]
  },
  {
   "cell_type": "code",
   "execution_count": null,
   "metadata": {},
   "outputs": [],
   "source": [
    "# Download latest file for Switzerland\n",
    "url = \"https://public.madd.bfs.admin.ch/buildings_ch.geojson\"\n",
    "response = requests.get(url)\n",
    "\n",
    "# Ensure response is valid\n",
    "if response.status_code == 200:\n",
    "    # Open file in write mode and write the response content\n",
    "    with open('buildings_ch.geojson', 'wb') as file:\n",
    "        file.write(response.content)\n",
    "else:\n",
    "    print(f\"Failed to download file, status code: {response.status_code}\")"
   ]
  },
  {
   "cell_type": "markdown",
   "metadata": {},
   "source": [
    "## Import latest GWR Data"
   ]
  },
  {
   "cell_type": "code",
   "execution_count": null,
   "metadata": {},
   "outputs": [],
   "source": [
    "# Load json file\n",
    "with open('buildings_ch.geojson') as f:\n",
    "    data = json.load(f)\n",
    "\n",
    "# Flatten nested json data\n",
    "df_orig = pd.json_normalize(data, record_path=['features'])\n",
    "df_orig\n",
    "\n",
    "# Remove prefix\n",
    "df_orig.columns = df_orig.columns.str.replace('properties.', '')\n",
    "df_orig.columns = df_orig.columns.str.replace('geometry.', '')\n",
    "\n",
    "# Create copy\n",
    "df = df_orig.copy()\n",
    "df.head()"
   ]
  },
  {
   "cell_type": "markdown",
   "metadata": {},
   "source": [
    "## Separate Swiss LV95 coordinates"
   ]
  },
  {
   "cell_type": "code",
   "execution_count": null,
   "metadata": {},
   "outputs": [],
   "source": [
    "# Separate coordinates\n",
    "df['x_coords'] = pd.DataFrame(df['coordinates'].tolist(), columns=['x_coord', 'y_coord'])['x_coord']\n",
    "df['y_coords'] = pd.DataFrame(df['coordinates'].tolist(), columns=['x_coord', 'y_coord'])['y_coord']\n",
    "\n",
    "# Remove column 'coordinates'\n",
    "df = df.drop(['coordinates'], axis=1)\n",
    "df"
   ]
  },
  {
   "cell_type": "markdown",
   "metadata": {},
   "source": [
    "## Create WGS84 coordinates"
   ]
  },
  {
   "cell_type": "code",
   "execution_count": null,
   "metadata": {},
   "outputs": [],
   "source": [
    "# Create geodataframe and calculate latitude and longitude\n",
    "gdf = gpd.GeoDataFrame(df, geometry=gpd.points_from_xy(df['x_coords'], df['y_coords']), crs=\"EPSG:2056\")\n",
    "\n",
    "# Convert the Swiss LV95 coordinates to lat & lon\n",
    "gdf = gdf.to_crs(epsg=4326)\n",
    "\n",
    "# Get Latitude and Longitude\n",
    "df['latitude'] = gdf['geometry'].y\n",
    "df['longitude'] = gdf['geometry'].x\n",
    "\n",
    "# Show data\n",
    "df"
   ]
  },
  {
   "cell_type": "markdown",
   "metadata": {},
   "source": [
    "## Plot subset of buildings"
   ]
  },
  {
   "cell_type": "code",
   "execution_count": null,
   "metadata": {},
   "outputs": [],
   "source": [
    "# Subset\n",
    "df_sub = df.loc[df['municipalityName'] == 'Greifensee'].sample(100).dropna()\n",
    "df_sub\n",
    "\n",
    "# Create the map\n",
    "m = folium.Map(location=[df_sub['latitude'].mean(), df_sub['longitude'].mean()], zoom_start=15)\n",
    "\n",
    "# Add points to the map\n",
    "for idx, row in df_sub.iterrows():\n",
    "    folium.Marker(location=([row['latitude'], \n",
    "                            row['longitude']]),\n",
    "                  popup=row['buildingCategory']).add_to(m)\n",
    "\n",
    "# Display the map\n",
    "m"
   ]
  },
  {
   "cell_type": "markdown",
   "metadata": {},
   "source": [
    "### Jupyter notebook --footer info-- (please always provide this at the end of each notebook)"
   ]
  },
  {
   "cell_type": "code",
   "execution_count": null,
   "metadata": {},
   "outputs": [],
   "source": [
    "import os\n",
    "import platform\n",
    "import socket\n",
    "from platform import python_version\n",
    "from datetime import datetime\n",
    "\n",
    "print('-----------------------------------')\n",
    "print(os.name.upper())\n",
    "print(platform.system(), '|', platform.release())\n",
    "print('Datetime:', datetime.now().strftime(\"%Y-%m-%d %H:%M:%S\"))\n",
    "print('Python Version:', python_version())\n",
    "print('-----------------------------------')"
   ]
  }
 ],
 "metadata": {
  "kernelspec": {
   "display_name": "Python 3 (ipykernel)",
   "language": "python",
   "name": "python3"
  },
  "language_info": {
   "codemirror_mode": {
    "name": "ipython",
    "version": 3
   },
   "file_extension": ".py",
   "mimetype": "text/x-python",
   "name": "python",
   "nbconvert_exporter": "python",
   "pygments_lexer": "ipython3",
   "version": "3.10.11"
  }
 },
 "nbformat": 4,
 "nbformat_minor": 2
}
